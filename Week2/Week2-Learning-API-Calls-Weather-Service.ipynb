{
 "cells": [
  {
   "cell_type": "markdown",
   "id": "f2069ed6",
   "metadata": {},
   "source": [
    "# Learning API Calls"
   ]
  },
  {
   "cell_type": "markdown",
   "id": "98fb70c5",
   "metadata": {},
   "source": [
    "## First let's call the points API to get the Grid Location of our city\n",
    "\n",
    "**Documentation**:\n",
    "https://www.weather.gov/documentation/services-web-api#/default/point\n",
    "\n",
    "\n",
    "**API endpoint**:\n",
    "https://api.weather.gov/points/{latitude},{longitude}\n",
    "\n",
    "\n",
    "\n",
    "We will use the ```fetch``` function to make the call\n",
    "https://developer.mozilla.org/en-US/docs/Web/API/fetch#syntax\n"
   ]
  },
  {
   "cell_type": "code",
   "execution_count": null,
   "id": "3dfe3634",
   "metadata": {},
   "outputs": [],
   "source": [
    "// Function to call points API \n",
    "async function getWeatherPointsOffice(longitude, latitude){\n",
    "    \n",
    "    //setup\n",
    "    const url = `https://api.weather.gov/points/${latitude},${longitude}`\n",
    "    const options = {\n",
    "      method: 'GET',\n",
    "      headers: {\n",
    "        'User-Agent': 'YSM Toronto - GenAI Class'\n",
    "      }\n",
    "    };\n",
    "    \n",
    "    //make the API call using the variables above\n",
    "    const res = await fetch(url)\n",
    "    \n",
    "    //return the results\n",
    "    return await res.json();\n",
    "}\n"
   ]
  },
  {
   "cell_type": "markdown",
   "id": "1d97f51f",
   "metadata": {},
   "source": [
    "## Finding weather for Chicago"
   ]
  },
  {
   "cell_type": "code",
   "execution_count": null,
   "id": "a9eded05",
   "metadata": {},
   "outputs": [],
   "source": [
    "// create a variable with chicago information\n",
    "const chicago = {\n",
    "    \"latitude\": '41.8781',  \n",
    "    \"longitude\": \"-87.6298\"\n",
    "}"
   ]
  },
  {
   "cell_type": "markdown",
   "id": "4ab84509",
   "metadata": {},
   "source": [
    "## Calling the getWeatherPointsOffice function we created"
   ]
  },
  {
   "cell_type": "code",
   "execution_count": null,
   "id": "da6924a1",
   "metadata": {},
   "outputs": [],
   "source": [
    "let chicagoOfficeResponse"
   ]
  },
  {
   "cell_type": "code",
   "execution_count": null,
   "id": "4a9eb256",
   "metadata": {},
   "outputs": [],
   "source": [
    "getWeatherPointsOffice(chicago.longitude, chicago.latitude)\n",
    "    .then( \n",
    "        response => { \n",
    "            chicagoOfficeResponse =  response\n",
    "          }\n",
    "    )"
   ]
  },
  {
   "cell_type": "code",
   "execution_count": null,
   "id": "6b93a5cf",
   "metadata": {},
   "outputs": [],
   "source": [
    " //print the response\n",
    "console.log(chicagoOfficeResponse)"
   ]
  },
  {
   "cell_type": "code",
   "execution_count": null,
   "id": "9dd203ae",
   "metadata": {},
   "outputs": [],
   "source": [
    "console.log(chicagoOfficeResponse.properties)"
   ]
  },
  {
   "cell_type": "code",
   "execution_count": null,
   "id": "c002a7a6",
   "metadata": {},
   "outputs": [],
   "source": [
    "console.log(chicago)"
   ]
  },
  {
   "cell_type": "code",
   "execution_count": null,
   "id": "4b63dcec",
   "metadata": {},
   "outputs": [],
   "source": [
    "// adding x & y to our chicago variable (object)\n",
    "chicago.x = chicagoOfficeResponse.properties.gridX\n",
    "chicago.y = chicagoOfficeResponse.properties.gridY\n",
    "chicago.wfo = chicagoOfficeResponse.properties.gridId"
   ]
  },
  {
   "cell_type": "code",
   "execution_count": null,
   "id": "11cce55e",
   "metadata": {},
   "outputs": [],
   "source": [
    "// print the values of our chicago variable\n",
    "console.log(chicago)"
   ]
  },
  {
   "cell_type": "markdown",
   "id": "150145a8",
   "metadata": {},
   "source": [
    "## Creating a function to call the weather API endpoint\n",
    "\n",
    "Let's pass a parameter called city so that we can re-use this function for many cities"
   ]
  },
  {
   "cell_type": "code",
   "execution_count": null,
   "id": "e9f95920",
   "metadata": {},
   "outputs": [],
   "source": [
    "// Function to call points API \n",
    "async function getWeatherForecastForCity(x, y, wfo){\n",
    "    \n",
    "    //setup\n",
    "    const url = `https://api.weather.gov/gridpoints/${wfo}/${x},${y}/forecast`\n",
    "    const options = {\n",
    "      method: 'GET',\n",
    "      headers: {\n",
    "        'User-Agent:': 'YSM Toronto - GenAI Class'\n",
    "      }\n",
    "    };\n",
    "    \n",
    "    //make the API call using the variables above\n",
    "    const res = await fetch(url)\n",
    "    \n",
    "    //return the results\n",
    "    return await res.json();\n",
    "}"
   ]
  },
  {
   "cell_type": "markdown",
   "id": "30a882f1",
   "metadata": {},
   "source": [
    "## Call our function to get the weather for Chicago"
   ]
  },
  {
   "cell_type": "code",
   "execution_count": null,
   "id": "4bb17a5b",
   "metadata": {},
   "outputs": [],
   "source": [
    "let chicagoWeather\n"
   ]
  },
  {
   "cell_type": "code",
   "execution_count": null,
   "id": "69129c42",
   "metadata": {},
   "outputs": [],
   "source": [
    "getWeatherForecastForCity(chicago.x, chicago.y, chicago.wfo)\n",
    "    .then( \n",
    "        response => {\n",
    "            chicagoWeather = response\n",
    "        })"
   ]
  },
  {
   "cell_type": "code",
   "execution_count": null,
   "id": "521eec1e",
   "metadata": {},
   "outputs": [],
   "source": [
    "console.log(chicagoWeather)"
   ]
  },
  {
   "cell_type": "code",
   "execution_count": null,
   "id": "2d24c5fa",
   "metadata": {},
   "outputs": [],
   "source": [
    "console.log(chicagoWeather.properties.periods)"
   ]
  },
  {
   "cell_type": "code",
   "execution_count": null,
   "id": "be21eb44",
   "metadata": {},
   "outputs": [],
   "source": [
    "let chicagoWeatherPeriods = chicagoWeather.properties.periods"
   ]
  },
  {
   "cell_type": "code",
   "execution_count": null,
   "id": "589fa3da",
   "metadata": {},
   "outputs": [],
   "source": [
    "let mondayWeatherChicago = chicagoWeatherPeriods.filter(\n",
    "    (weather) => weather.name.toLowerCase().includes('monday')\n",
    ");"
   ]
  },
  {
   "cell_type": "code",
   "execution_count": null,
   "id": "f12a9c03",
   "metadata": {},
   "outputs": [],
   "source": [
    "console.log(mondayWeatherChicago)"
   ]
  },
  {
   "cell_type": "markdown",
   "id": "2d5c29d1",
   "metadata": {},
   "source": [
    "# Let's try it out"
   ]
  },
  {
   "cell_type": "markdown",
   "id": "b48e61bd",
   "metadata": {},
   "source": [
    "1.  Print out the forecast for Tuesday in Chicago"
   ]
  },
  {
   "cell_type": "code",
   "execution_count": null,
   "id": "abbc8d11",
   "metadata": {},
   "outputs": [],
   "source": [
    "// Put your answer here to question 1"
   ]
  },
  {
   "cell_type": "markdown",
   "id": "7be5c7c4",
   "metadata": {},
   "source": [
    "2.  Print out the entire forecast for the week for Los Angeles"
   ]
  },
  {
   "cell_type": "code",
   "execution_count": null,
   "id": "715f38ee",
   "metadata": {},
   "outputs": [],
   "source": [
    "// Put your answer here to question 2"
   ]
  },
  {
   "cell_type": "markdown",
   "id": "467f8998",
   "metadata": {},
   "source": [
    "3.  Print out the forecast for Los Angeles for Friday and Saturday"
   ]
  },
  {
   "cell_type": "code",
   "execution_count": null,
   "id": "4db13d8b",
   "metadata": {},
   "outputs": [],
   "source": [
    "// Put your answer here to question 3"
   ]
  },
  {
   "cell_type": "markdown",
   "id": "cc3babaf",
   "metadata": {},
   "source": [
    "4.  Print a list of all radar stations and then filter for ones with Fargo in the name"
   ]
  },
  {
   "cell_type": "code",
   "execution_count": null,
   "id": "c7ee853a",
   "metadata": {},
   "outputs": [],
   "source": [
    "// Put your answer here to question 4"
   ]
  }
 ],
 "metadata": {
  "kernelspec": {
   "display_name": "JavaScript (Node.js)",
   "language": "javascript",
   "name": "javascript"
  },
  "language_info": {
   "file_extension": ".js",
   "mimetype": "application/javascript",
   "name": "javascript",
   "version": "18.17.1"
  }
 },
 "nbformat": 4,
 "nbformat_minor": 5
}

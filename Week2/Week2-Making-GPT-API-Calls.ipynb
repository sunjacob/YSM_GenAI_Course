{
 "cells": [
  {
   "cell_type": "markdown",
   "id": "c1121ee5",
   "metadata": {},
   "source": [
    "# Making ChatGPT API Calls\n",
    "\n",
    "**GPT API Documentation**\n",
    "https://platform.openai.com/docs/guides/gpt/chat-completions-api\n",
    "\n",
    "\n",
    "**Fetch Documentation**\n",
    "https://developer.mozilla.org/en-US/docs/Web/API/fetch"
   ]
  },
  {
   "cell_type": "code",
   "execution_count": null,
   "id": "21fd663a",
   "metadata": {},
   "outputs": [],
   "source": [
    "async function callGptApi(gptBody){\n",
    "    \n",
    "    //setup\n",
    "    const url = 'https://api.openai.com/v1/chat/completions'\n",
    "    const options = {\n",
    "      method: 'POST',\n",
    "      headers: {\n",
    "        'User-Agent': 'YSM Toronto - GenAI Class',\n",
    "        'Content-Type': 'application/json',\n",
    "        'Authorization': 'Bearer <INSERT TOKEN>'\n",
    "      },\n",
    "      body: JSON.stringify(gptBody)\n",
    "    };\n",
    "    \n",
    "    //make the API call using the variables above\n",
    "    const res = await fetch(url, options)\n",
    "    \n",
    "    //return the results\n",
    "    return await res.json();\n",
    "}"
   ]
  },
  {
   "cell_type": "code",
   "execution_count": null,
   "id": "cf82b9ad",
   "metadata": {},
   "outputs": [],
   "source": [
    "let basicGPTResponse;\n",
    "\n",
    "let basicGPTRequest;"
   ]
  },
  {
   "cell_type": "code",
   "execution_count": null,
   "id": "3653e60c",
   "metadata": {},
   "outputs": [],
   "source": [
    "basicGPTRequest = {\n",
    "    \"model\": \"gpt-3.5-turbo\",\n",
    "    \"messages\": [\n",
    "        {\n",
    "            \"role\": \"user\",\n",
    "            \"content\": \"Who won the nba championship in 2019?\"\n",
    "        }\n",
    "    ]\n",
    "}"
   ]
  },
  {
   "cell_type": "code",
   "execution_count": null,
   "id": "c5db1157",
   "metadata": {},
   "outputs": [],
   "source": [
    "callGptApi(basicGPTRequest)\n",
    "    .then( \n",
    "        response => { \n",
    "            basicGPTResponse =  response\n",
    "          }\n",
    "    )"
   ]
  },
  {
   "cell_type": "code",
   "execution_count": null,
   "id": "593686e0",
   "metadata": {},
   "outputs": [],
   "source": [
    "console.log(basicGPTResponse.choices[0].message.content)"
   ]
  },
  {
   "cell_type": "markdown",
   "id": "5a9cd14a",
   "metadata": {},
   "source": [
    "# Adding more options\n",
    "\n",
    "We can suppy the system parameter to help change the answer that is given"
   ]
  },
  {
   "cell_type": "code",
   "execution_count": null,
   "id": "04afc52e",
   "metadata": {},
   "outputs": [],
   "source": [
    "let gptUsingSystemResponse;\n",
    "let gptUsingSystemRequest;"
   ]
  },
  {
   "cell_type": "code",
   "execution_count": null,
   "id": "83b5eb7a",
   "metadata": {},
   "outputs": [],
   "source": [
    "gptUsingSystemRequest = {\n",
    "    \"model\": \"gpt-3.5-turbo\",\n",
    "    \"messages\": [\n",
    "        {\n",
    "            \"role\": \"system\",\n",
    "            \"content\": \"You are a helpful assistant\"\n",
    "        },\n",
    "        {\n",
    "            \"role\": \"user\",\n",
    "            \"content\": \"Who won the nba championship in 2019?\"\n",
    "        }\n",
    "    ]\n",
    "};"
   ]
  },
  {
   "cell_type": "code",
   "execution_count": null,
   "id": "0daaef22",
   "metadata": {},
   "outputs": [],
   "source": [
    "callGptApi(gptUsingSystemRequest)\n",
    "    .then( \n",
    "        response => { \n",
    "            gptUsingSystemResponse =  response\n",
    "          }\n",
    "    );"
   ]
  },
  {
   "cell_type": "code",
   "execution_count": null,
   "id": "0a9c72c7",
   "metadata": {},
   "outputs": [],
   "source": [
    "console.log(gptUsingSystemResponse.choices[0].message.content)"
   ]
  },
  {
   "cell_type": "code",
   "execution_count": null,
   "id": "76b8873b",
   "metadata": {},
   "outputs": [],
   "source": [
    "let gptUsingSystemHTMLResponse;\n",
    "let gptUsingSystemHTMLRequest;"
   ]
  },
  {
   "cell_type": "code",
   "execution_count": null,
   "id": "100a84bd",
   "metadata": {},
   "outputs": [],
   "source": [
    "gptUsingSystemHTMLRequest = {\n",
    "    \"model\": \"gpt-3.5-turbo\",\n",
    "    \"messages\": [\n",
    "        {\n",
    "            \"role\": \"system\",\n",
    "            \"content\": \"You are a basketball expert that gives your answers formatted in HTML\"\n",
    "        },\n",
    "        {\n",
    "            \"role\": \"user\",\n",
    "            \"content\": \"Who won the nba championship in 2019?\"\n",
    "        }\n",
    "    ]\n",
    "};"
   ]
  },
  {
   "cell_type": "code",
   "execution_count": null,
   "id": "e5ba10de",
   "metadata": {},
   "outputs": [],
   "source": [
    "callGptApi(gptUsingSystemHTMLRequest)\n",
    "    .then( \n",
    "        response => { \n",
    "            gptUsingSystemHTMLResponse =  response\n",
    "          }\n",
    "    )"
   ]
  },
  {
   "cell_type": "code",
   "execution_count": null,
   "id": "9435aa68",
   "metadata": {},
   "outputs": [],
   "source": [
    "console.log(gptUsingSystemHTMLResponse.choices[0].message.content)"
   ]
  },
  {
   "cell_type": "markdown",
   "id": "cf502bee",
   "metadata": {},
   "source": [
    "# Build the conversation\n",
    "\n",
    "You can add previous answers in order to continue the conversation\n"
   ]
  },
  {
   "cell_type": "code",
   "execution_count": null,
   "id": "750e1fd8",
   "metadata": {},
   "outputs": [],
   "source": [
    "let gptFullConvoResponse;\n",
    "let gptFullConvoRequest;"
   ]
  },
  {
   "cell_type": "code",
   "execution_count": null,
   "id": "d1708618",
   "metadata": {},
   "outputs": [],
   "source": [
    "gptFullConvoRequest = {\n",
    "    \"model\": \"gpt-3.5-turbo\",\n",
    "    \"messages\": [\n",
    "        {\n",
    "            \"role\": \"system\",\n",
    "            \"content\": \"You are a basketball expert that gives your answers formatted in HTML\"\n",
    "        },\n",
    "        {\n",
    "            \"role\": \"user\",\n",
    "            \"content\": \"Who won the nba championship in 2019?\"\n",
    "        },\n",
    "        {\n",
    "            \"role\": \"assistant\",\n",
    "            \"content\": \"<p>The NBA Championship in 2019 was won by the <strong>Toronto Raptors</strong>.</p>\"\n",
    "        },\n",
    "        {\n",
    "            \"role\": \"user\",\n",
    "            \"content\": \"Who did they play?\"\n",
    "        }\n",
    "        \n",
    "    ]\n",
    "};"
   ]
  },
  {
   "cell_type": "code",
   "execution_count": null,
   "id": "03bd24a1",
   "metadata": {},
   "outputs": [],
   "source": [
    "callGptApi(gptFullConvoRequest)\n",
    "    .then( \n",
    "        response => { \n",
    "            gptFullConvoResponse =  response\n",
    "          }\n",
    "    )"
   ]
  },
  {
   "cell_type": "code",
   "execution_count": null,
   "id": "ed1e9e87",
   "metadata": {},
   "outputs": [],
   "source": [
    "console.log(gptFullConvoResponse.choices[0].message.content)"
   ]
  },
  {
   "cell_type": "code",
   "execution_count": null,
   "id": "c41bd18c",
   "metadata": {},
   "outputs": [],
   "source": [
    "let gptBadDataResponse;\n",
    "let gptBadDataRequest;"
   ]
  },
  {
   "cell_type": "code",
   "execution_count": null,
   "id": "86639996",
   "metadata": {},
   "outputs": [],
   "source": [
    "gptBadDataRequest = {\n",
    "    \"model\": \"gpt-3.5-turbo\",\n",
    "    \"messages\": [\n",
    "        {\n",
    "            \"role\": \"system\",\n",
    "            \"content\": \"You are a basketball expert that gives your answers formatted in HTML\"\n",
    "        },\n",
    "        {\n",
    "            \"role\": \"user\",\n",
    "            \"content\": \"Who won the nba championship in 2019?\"\n",
    "        },\n",
    "        {\n",
    "            \"role\": \"assistant\",\n",
    "            \"content\": \"<p>The NBA Championship in 2019 was won by the <strong>Golden State Warriors</strong>.</p>\"\n",
    "        }\n",
    "        \n",
    "    ]\n",
    "};"
   ]
  },
  {
   "cell_type": "code",
   "execution_count": null,
   "id": "dc3f8aae",
   "metadata": {},
   "outputs": [],
   "source": [
    "callGptApi(gptBadDataRequest)\n",
    "    .then( \n",
    "        response => { \n",
    "            gptBadDataResponse =  response\n",
    "          }\n",
    "    )"
   ]
  },
  {
   "cell_type": "code",
   "execution_count": null,
   "id": "6b8b4682",
   "metadata": {},
   "outputs": [],
   "source": [
    "console.log(gptBadDataResponse.choices)"
   ]
  }
 ],
 "metadata": {
  "kernelspec": {
   "display_name": "JavaScript (Node.js)",
   "language": "javascript",
   "name": "javascript"
  },
  "language_info": {
   "file_extension": ".js",
   "mimetype": "application/javascript",
   "name": "javascript",
   "version": "18.17.1"
  }
 },
 "nbformat": 4,
 "nbformat_minor": 5
}
